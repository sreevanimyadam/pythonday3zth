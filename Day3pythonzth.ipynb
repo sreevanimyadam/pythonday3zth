{
  "nbformat": 4,
  "nbformat_minor": 0,
  "metadata": {
    "colab": {
      "name": "Day3pythonzth.ipynb",
      "provenance": [],
      "authorship_tag": "ABX9TyMUcSc3dKapvv3Ra6IL2x9Q",
      "include_colab_link": true
    },
    "kernelspec": {
      "name": "python3",
      "display_name": "Python 3"
    },
    "language_info": {
      "name": "python"
    }
  },
  "cells": [
    {
      "cell_type": "markdown",
      "metadata": {
        "id": "view-in-github",
        "colab_type": "text"
      },
      "source": [
        "<a href=\"https://colab.research.google.com/github/sreevanimyadam/pythonday3zth/blob/main/Day3pythonzth.ipynb\" target=\"_parent\"><img src=\"https://colab.research.google.com/assets/colab-badge.svg\" alt=\"Open In Colab\"/></a>"
      ]
    },
    {
      "cell_type": "code",
      "metadata": {
        "id": "9xFuE6R0Nrat",
        "colab": {
          "base_uri": "https://localhost:8080/"
        },
        "outputId": "126b683f-5859-4285-e6b3-b7cecc76154b"
      },
      "source": [
        "Pli= [2,1,5,3,4]\n",
        "li=[]\n",
        "for i in range(1,6):\n",
        "    x=Pli.index(i)\n",
        "    li.append(x+1)\n",
        "print(li)"
      ],
      "execution_count": null,
      "outputs": [
        {
          "output_type": "stream",
          "text": [
            "[2, 1, 4, 5, 3]\n"
          ],
          "name": "stdout"
        }
      ]
    }
  ]
}